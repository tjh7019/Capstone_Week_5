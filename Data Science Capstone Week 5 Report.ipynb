{
 "cells": [
  {
   "cell_type": "markdown",
   "metadata": {
    "collapsed": true
   },
   "source": [
    "# Introduction"
   ]
  },
  {
   "cell_type": "markdown",
   "metadata": {},
   "source": [
    "## Description of the Problem"
   ]
  },
  {
   "cell_type": "markdown",
   "metadata": {},
   "source": [
    "How does one determine the best place to live? Many factors go into this decision, but perhaps the most important is the feeling of safety within one's home and community. \n",
    "\n",
    "The US east-coast business and cultural center of Philadelphia, Pennsylvania, offers all of the attractions and benefits of New York City, but without the concentration of people and sheer size.\n",
    "\n",
    "Therefore, if someone were to want to move to and live in Philadelphia, what would be the safest area in which to live?"
   ]
  },
  {
   "cell_type": "markdown",
   "metadata": {},
   "source": [
    "This project would be of interest to anyone wishing to move to Philadelphia, or to people interested in crime data for a major US city."
   ]
  },
  {
   "cell_type": "markdown",
   "metadata": {},
   "source": [
    "# Data"
   ]
  },
  {
   "cell_type": "markdown",
   "metadata": {},
   "source": [
    "We will be using the geographical coordinates of Philadelphia to plot neighborhoods in a section that is safe and affordable and within in the city, and cluster the neighborhoods and present the findings.\n",
    "\n",
    "The following data sources will be used:\n",
    "\n",
    "- Real world data set from OpenDataPhilly containing the Philadelphia Crimes in 2019: A dataset consisting of the crime statistics of each section of Philadelphia along with type of crime.\n",
    "\n",
    "- Consolidating datasets to include crime rates and types of crime, longitude and latitude of locations, etc.\n",
    "\n",
    "- Use Four Square API to add location and venue info to dataset to include restaurants, bars, schools, etc."
   ]
  },
  {
   "cell_type": "markdown",
   "metadata": {},
   "source": [
    "# Methodology"
   ]
  },
  {
   "cell_type": "markdown",
   "metadata": {},
   "source": [
    "Using the data provided by OpenDataPhilly containing crimes committed in Philadelphia in 2019, I was able to explore the total crime incidents for the 21 police districts in the city. Each district represents a location in Philadelphia, most often named after specific neighborhoods (Roxborough, Bustleton, Grand Estates, Mayfair, etc.), and other geographic locales or main attractions (North Central Philadelphia, NE Philly Airport, Stadiums Complex, etc.)\n",
    "\n",
    "The data provided included the total number of crimes for the city, the police-response dispatch dates and times, location of the crime (based on block where the crime occurred or nearest intersection), the type of crime committed (homicide, DUI, drug infraction, etc.) and the latiitude and longitude of the nearest intersection to the crime. The data also included the police district in which the crime occurred.\n",
    "\n",
    "Based on this data, I was able to determine the total crime rate for each district and the type of crime committed. The \"top\" five districts in total crimes committed accounted for 35% of the total crimes (161,088) committed for 2019:\n",
    "\n",
    "- District 24 (East/Feltonville) 13,546 crimes committed\n",
    "- District 15 (NE/Mayfair)       10,981 crimes committed\n",
    "- District 22 (N. Central Phila) 10,932 crimes committed\n",
    "- District 35 (NW/Fern Rock)     10,797 crimes committed\n",
    "- District 19 (SW/Haddington)    10,745 crimes committed\n",
    "Total crimes for 5 highest:      57,001 crimes committed\n",
    "\n",
    "Meanwhile, the five districts with the lowest total crimes committed accounted for just 10% of the total crimes (161,088) committed for 2019:\n",
    "\n",
    "- District  5 (NW/Roxborough)     2,260 crimes committed\n",
    "- District  7 (NE/Bustleton)      2,497 crimes committed\n",
    "- District  1 (South/Grand Est.)  2,560 crimes committed\n",
    "- District  8 (NE/Phila Ariport)  4,312 crimes committed\n",
    "- District 17 (SW/Center City)    4,650 crimes committed\n",
    "Total crimes for 5 lowest:       16,279 crimes committed\n",
    "\n",
    "With this in mind, I determined that based on crime, District 5 was the safest in which to live."
   ]
  },
  {
   "cell_type": "markdown",
   "metadata": {},
   "source": [
    "# Conclusion"
   ]
  },
  {
   "cell_type": "markdown",
   "metadata": {},
   "source": [
    "Based on the crime data listed above, district 5 (Roxborough) section of Philadelphia, PA, is the safest neighborhood in which to live in the city."
   ]
  },
  {
   "cell_type": "code",
   "execution_count": null,
   "metadata": {},
   "outputs": [],
   "source": []
  }
 ],
 "metadata": {
  "kernelspec": {
   "display_name": "Python 3.6",
   "language": "python",
   "name": "python3"
  },
  "language_info": {
   "codemirror_mode": {
    "name": "ipython",
    "version": 3
   },
   "file_extension": ".py",
   "mimetype": "text/x-python",
   "name": "python",
   "nbconvert_exporter": "python",
   "pygments_lexer": "ipython3",
   "version": "3.6.9"
  }
 },
 "nbformat": 4,
 "nbformat_minor": 1
}
